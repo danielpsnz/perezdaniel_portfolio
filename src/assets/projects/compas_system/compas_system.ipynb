{
 "cells": [
  {
   "cell_type": "markdown",
   "metadata": {},
   "source": [
    "# Context\n",
    "\n",
    "Every day, the introduction of data science into the field of law and justice is becoming more common. A well-known example of this is the COMPAS system (Correctional Offender Management Profiling for Alternative Sanctions), which is used in several states in the United States to assess the risk of recidivism for detained individuals. A brief description of the system can be found on the page https://en.wikipedia.org/wiki/COMPAS_(software).\n",
    "\n",
    "In this case, it provides a set of raw data with information from assessments (compas-scores.csv file) and the legal history of around 11,000 cases in the years 2013 and 2014 (one of the original files used in an independent analysis of the COMPAS system conducted by ProPublica, available on the internet). Although the dataset contains additional information, the following fields are necessary to address the issues raised in this case (aside from some self-explanatory fields):\n",
    "\n",
    "* \"compas_screening_date\": refers to the date on which the evaluation was conducted.\n",
    "* \"decile_score\": is a number from 1 to 10 indicating the overall risk of recidivism (higher risk corresponds to a higher number).\n",
    "* \"v_decile_score\": is a number from 1 to 10, potentially different from the previous one, indicating the risk of recidivism in violent offenses. When evaluating a case in COMPAS, two scores are generated, among other things.\n",
    "* \"is_recid\": indication of whether the person is a recidivist (at the time data is collected: there is no information on whether the person is a recidivist beyond certain dates, and it is important to consider this for ensuring homogeneous comparisons).\n",
    "* \"r_offense_date\": date on which the offense for which the person is considered a recidivist was committed.\n",
    "* \"is_violent_recid\": indication of whether the person is a recidivist in a violent offense (the same considerations about dates as for \"is_recid\" apply here).\n",
    "* \"vr_offense_date\": date on which the violent offense that leads to the consideration of recidivism occurred."
   ]
  },
  {
   "cell_type": "markdown",
   "metadata": {},
   "source": [
    "We import the libraries needed to perform an exploratory analysis and assess the quality of the data. Specifically, we will evaluate the integrity, validity, and timeliness of the data and propose strategies to mitigate any potential issues encountered."
   ]
  },
  {
   "cell_type": "code",
   "execution_count": 107,
   "metadata": {},
   "outputs": [
    {
     "data": {
      "text/html": [
       "<div>\n",
       "<style scoped>\n",
       "    .dataframe tbody tr th:only-of-type {\n",
       "        vertical-align: middle;\n",
       "    }\n",
       "\n",
       "    .dataframe tbody tr th {\n",
       "        vertical-align: top;\n",
       "    }\n",
       "\n",
       "    .dataframe thead th {\n",
       "        text-align: right;\n",
       "    }\n",
       "</style>\n",
       "<table border=\"1\" class=\"dataframe\">\n",
       "  <thead>\n",
       "    <tr style=\"text-align: right;\">\n",
       "      <th></th>\n",
       "      <th>id</th>\n",
       "      <th>name</th>\n",
       "      <th>first</th>\n",
       "      <th>last</th>\n",
       "      <th>compas_screening_date</th>\n",
       "      <th>sex</th>\n",
       "      <th>dob</th>\n",
       "      <th>age</th>\n",
       "      <th>age_cat</th>\n",
       "      <th>race</th>\n",
       "      <th>...</th>\n",
       "      <th>vr_offense_date</th>\n",
       "      <th>vr_charge_desc</th>\n",
       "      <th>v_type_of_assessment</th>\n",
       "      <th>v_decile_score</th>\n",
       "      <th>v_score_text</th>\n",
       "      <th>v_screening_date</th>\n",
       "      <th>type_of_assessment</th>\n",
       "      <th>decile_score.1</th>\n",
       "      <th>score_text</th>\n",
       "      <th>screening_date</th>\n",
       "    </tr>\n",
       "  </thead>\n",
       "  <tbody>\n",
       "    <tr>\n",
       "      <th>0</th>\n",
       "      <td>1</td>\n",
       "      <td>miguel hernandez</td>\n",
       "      <td>miguel</td>\n",
       "      <td>hernandez</td>\n",
       "      <td>2013-08-14</td>\n",
       "      <td>Male</td>\n",
       "      <td>1947-04-18</td>\n",
       "      <td>69</td>\n",
       "      <td>Greater than 45</td>\n",
       "      <td>Other</td>\n",
       "      <td>...</td>\n",
       "      <td>NaN</td>\n",
       "      <td>NaN</td>\n",
       "      <td>Risk of Violence</td>\n",
       "      <td>1</td>\n",
       "      <td>Low</td>\n",
       "      <td>2013-08-14</td>\n",
       "      <td>Risk of Recidivism</td>\n",
       "      <td>1</td>\n",
       "      <td>Low</td>\n",
       "      <td>2013-08-14</td>\n",
       "    </tr>\n",
       "    <tr>\n",
       "      <th>1</th>\n",
       "      <td>2</td>\n",
       "      <td>michael ryan</td>\n",
       "      <td>michael</td>\n",
       "      <td>ryan</td>\n",
       "      <td>2014-12-31</td>\n",
       "      <td>Male</td>\n",
       "      <td>1985-02-06</td>\n",
       "      <td>31</td>\n",
       "      <td>25 - 45</td>\n",
       "      <td>Caucasian</td>\n",
       "      <td>...</td>\n",
       "      <td>NaN</td>\n",
       "      <td>NaN</td>\n",
       "      <td>Risk of Violence</td>\n",
       "      <td>2</td>\n",
       "      <td>Low</td>\n",
       "      <td>2014-12-31</td>\n",
       "      <td>Risk of Recidivism</td>\n",
       "      <td>5</td>\n",
       "      <td>Medium</td>\n",
       "      <td>2014-12-31</td>\n",
       "    </tr>\n",
       "    <tr>\n",
       "      <th>2</th>\n",
       "      <td>3</td>\n",
       "      <td>kevon dixon</td>\n",
       "      <td>kevon</td>\n",
       "      <td>dixon</td>\n",
       "      <td>2013-01-27</td>\n",
       "      <td>Male</td>\n",
       "      <td>1982-01-22</td>\n",
       "      <td>34</td>\n",
       "      <td>25 - 45</td>\n",
       "      <td>African-American</td>\n",
       "      <td>...</td>\n",
       "      <td>2013-07-05</td>\n",
       "      <td>Felony Battery (Dom Strang)</td>\n",
       "      <td>Risk of Violence</td>\n",
       "      <td>1</td>\n",
       "      <td>Low</td>\n",
       "      <td>2013-01-27</td>\n",
       "      <td>Risk of Recidivism</td>\n",
       "      <td>3</td>\n",
       "      <td>Low</td>\n",
       "      <td>2013-01-27</td>\n",
       "    </tr>\n",
       "    <tr>\n",
       "      <th>3</th>\n",
       "      <td>4</td>\n",
       "      <td>ed philo</td>\n",
       "      <td>ed</td>\n",
       "      <td>philo</td>\n",
       "      <td>2013-04-14</td>\n",
       "      <td>Male</td>\n",
       "      <td>1991-05-14</td>\n",
       "      <td>24</td>\n",
       "      <td>Less than 25</td>\n",
       "      <td>African-American</td>\n",
       "      <td>...</td>\n",
       "      <td>NaN</td>\n",
       "      <td>NaN</td>\n",
       "      <td>Risk of Violence</td>\n",
       "      <td>3</td>\n",
       "      <td>Low</td>\n",
       "      <td>2013-04-14</td>\n",
       "      <td>Risk of Recidivism</td>\n",
       "      <td>4</td>\n",
       "      <td>Low</td>\n",
       "      <td>2013-04-14</td>\n",
       "    </tr>\n",
       "    <tr>\n",
       "      <th>4</th>\n",
       "      <td>5</td>\n",
       "      <td>marcu brown</td>\n",
       "      <td>marcu</td>\n",
       "      <td>brown</td>\n",
       "      <td>2013-01-13</td>\n",
       "      <td>Male</td>\n",
       "      <td>1993-01-21</td>\n",
       "      <td>23</td>\n",
       "      <td>Less than 25</td>\n",
       "      <td>African-American</td>\n",
       "      <td>...</td>\n",
       "      <td>NaN</td>\n",
       "      <td>NaN</td>\n",
       "      <td>Risk of Violence</td>\n",
       "      <td>6</td>\n",
       "      <td>Medium</td>\n",
       "      <td>2013-01-13</td>\n",
       "      <td>Risk of Recidivism</td>\n",
       "      <td>8</td>\n",
       "      <td>High</td>\n",
       "      <td>2013-01-13</td>\n",
       "    </tr>\n",
       "  </tbody>\n",
       "</table>\n",
       "<p>5 rows × 47 columns</p>\n",
       "</div>"
      ],
      "text/plain": [
       "   id              name    first       last compas_screening_date   sex  \\\n",
       "0   1  miguel hernandez   miguel  hernandez            2013-08-14  Male   \n",
       "1   2      michael ryan  michael       ryan            2014-12-31  Male   \n",
       "2   3       kevon dixon    kevon      dixon            2013-01-27  Male   \n",
       "3   4          ed philo       ed      philo            2013-04-14  Male   \n",
       "4   5       marcu brown    marcu      brown            2013-01-13  Male   \n",
       "\n",
       "          dob  age          age_cat              race  ...  vr_offense_date  \\\n",
       "0  1947-04-18   69  Greater than 45             Other  ...              NaN   \n",
       "1  1985-02-06   31          25 - 45         Caucasian  ...              NaN   \n",
       "2  1982-01-22   34          25 - 45  African-American  ...       2013-07-05   \n",
       "3  1991-05-14   24     Less than 25  African-American  ...              NaN   \n",
       "4  1993-01-21   23     Less than 25  African-American  ...              NaN   \n",
       "\n",
       "                vr_charge_desc  v_type_of_assessment  v_decile_score  \\\n",
       "0                          NaN      Risk of Violence               1   \n",
       "1                          NaN      Risk of Violence               2   \n",
       "2  Felony Battery (Dom Strang)      Risk of Violence               1   \n",
       "3                          NaN      Risk of Violence               3   \n",
       "4                          NaN      Risk of Violence               6   \n",
       "\n",
       "   v_score_text  v_screening_date  type_of_assessment decile_score.1  \\\n",
       "0           Low        2013-08-14  Risk of Recidivism              1   \n",
       "1           Low        2014-12-31  Risk of Recidivism              5   \n",
       "2           Low        2013-01-27  Risk of Recidivism              3   \n",
       "3           Low        2013-04-14  Risk of Recidivism              4   \n",
       "4        Medium        2013-01-13  Risk of Recidivism              8   \n",
       "\n",
       "  score_text screening_date  \n",
       "0        Low     2013-08-14  \n",
       "1     Medium     2014-12-31  \n",
       "2        Low     2013-01-27  \n",
       "3        Low     2013-04-14  \n",
       "4       High     2013-01-13  \n",
       "\n",
       "[5 rows x 47 columns]"
      ]
     },
     "execution_count": 107,
     "metadata": {},
     "output_type": "execute_result"
    }
   ],
   "source": [
    "import numpy as np\n",
    "import pandas as pd\n",
    "import matplotlib.pyplot as plt\n",
    "\n",
    "compas_score_raw = pd.read_csv('./compas-scores.csv')\n",
    "compas_score_raw.head()"
   ]
  },
  {
   "cell_type": "code",
   "execution_count": 108,
   "metadata": {},
   "outputs": [
    {
     "name": "stdout",
     "output_type": "stream",
     "text": [
      "<class 'pandas.core.frame.DataFrame'>\n",
      "RangeIndex: 11757 entries, 0 to 11756\n",
      "Data columns (total 47 columns):\n",
      " #   Column                   Non-Null Count  Dtype  \n",
      "---  ------                   --------------  -----  \n",
      " 0   id                       11757 non-null  int64  \n",
      " 1   name                     11757 non-null  object \n",
      " 2   first                    11757 non-null  object \n",
      " 3   last                     11757 non-null  object \n",
      " 4   compas_screening_date    11757 non-null  object \n",
      " 5   sex                      11757 non-null  object \n",
      " 6   dob                      11757 non-null  object \n",
      " 7   age                      11757 non-null  int64  \n",
      " 8   age_cat                  11757 non-null  object \n",
      " 9   race                     11757 non-null  object \n",
      " 10  juv_fel_count            11757 non-null  int64  \n",
      " 11  decile_score             11757 non-null  int64  \n",
      " 12  juv_misd_count           11757 non-null  int64  \n",
      " 13  juv_other_count          11757 non-null  int64  \n",
      " 14  priors_count             11757 non-null  int64  \n",
      " 15  days_b_screening_arrest  10577 non-null  float64\n",
      " 16  c_jail_in                10577 non-null  object \n",
      " 17  c_jail_out               10577 non-null  object \n",
      " 18  c_case_number            11015 non-null  object \n",
      " 19  c_offense_date           9157 non-null   object \n",
      " 20  c_arrest_date            1858 non-null   object \n",
      " 21  c_days_from_compas       11015 non-null  float64\n",
      " 22  c_charge_degree          11757 non-null  object \n",
      " 23  c_charge_desc            11008 non-null  object \n",
      " 24  is_recid                 11757 non-null  int64  \n",
      " 25  num_r_cases              0 non-null      float64\n",
      " 26  r_case_number            3703 non-null   object \n",
      " 27  r_charge_degree          11757 non-null  object \n",
      " 28  r_days_from_arrest       2460 non-null   float64\n",
      " 29  r_offense_date           3703 non-null   object \n",
      " 30  r_charge_desc            3643 non-null   object \n",
      " 31  r_jail_in                2460 non-null   object \n",
      " 32  r_jail_out               2460 non-null   object \n",
      " 33  is_violent_recid         11757 non-null  int64  \n",
      " 34  num_vr_cases             0 non-null      float64\n",
      " 35  vr_case_number           882 non-null    object \n",
      " 36  vr_charge_degree         882 non-null    object \n",
      " 37  vr_offense_date          882 non-null    object \n",
      " 38  vr_charge_desc           882 non-null    object \n",
      " 39  v_type_of_assessment     11757 non-null  object \n",
      " 40  v_decile_score           11757 non-null  int64  \n",
      " 41  v_score_text             11752 non-null  object \n",
      " 42  v_screening_date         11757 non-null  object \n",
      " 43  type_of_assessment       11757 non-null  object \n",
      " 44  decile_score.1           11757 non-null  int64  \n",
      " 45  score_text               11742 non-null  object \n",
      " 46  screening_date           11757 non-null  object \n",
      "dtypes: float64(5), int64(11), object(31)\n",
      "memory usage: 4.2+ MB\n"
     ]
    }
   ],
   "source": [
    "compas_score_raw.info()"
   ]
  },
  {
   "cell_type": "code",
   "execution_count": 109,
   "metadata": {},
   "outputs": [
    {
     "data": {
      "text/plain": [
       "Index(['id', 'name', 'first', 'last', 'compas_screening_date', 'sex', 'dob',\n",
       "       'age', 'age_cat', 'race', 'juv_fel_count', 'decile_score',\n",
       "       'juv_misd_count', 'juv_other_count', 'priors_count',\n",
       "       'days_b_screening_arrest', 'c_jail_in', 'c_jail_out', 'c_case_number',\n",
       "       'c_offense_date', 'c_arrest_date', 'c_days_from_compas',\n",
       "       'c_charge_degree', 'c_charge_desc', 'is_recid', 'num_r_cases',\n",
       "       'r_case_number', 'r_charge_degree', 'r_days_from_arrest',\n",
       "       'r_offense_date', 'r_charge_desc', 'r_jail_in', 'r_jail_out',\n",
       "       'is_violent_recid', 'num_vr_cases', 'vr_case_number',\n",
       "       'vr_charge_degree', 'vr_offense_date', 'vr_charge_desc',\n",
       "       'v_type_of_assessment', 'v_decile_score', 'v_score_text',\n",
       "       'v_screening_date', 'type_of_assessment', 'decile_score.1',\n",
       "       'score_text', 'screening_date'],\n",
       "      dtype='object')"
      ]
     },
     "execution_count": 109,
     "metadata": {},
     "output_type": "execute_result"
    }
   ],
   "source": [
    "compas_score_raw.columns"
   ]
  },
  {
   "cell_type": "markdown",
   "metadata": {},
   "source": [
    "We will create a function that gives us the relevant information to facilitate data cleaning. Also, we will create a dataframe in which we will be adding the variables involved in our analysis, with the data already cleaned and prepared to be used. "
   ]
  },
  {
   "cell_type": "code",
   "execution_count": 110,
   "metadata": {},
   "outputs": [],
   "source": [
    "def cleaning(df, col):\n",
    "    print(f'Column: {col} - Data type: {df[col].dtype}')\n",
    "    print(f'Number of nulls: {df[col].isnull().sum()} - Number of distincts values: {df[col].nunique()}')\n",
    "    print('Frequent values:')\n",
    "    for i, v in df[col].value_counts().iloc[:10].items() :\n",
    "        print(i, '\\t', v)\n",
    "\n",
    "compas_score = pd.DataFrame()"
   ]
  },
  {
   "cell_type": "code",
   "execution_count": 111,
   "metadata": {},
   "outputs": [
    {
     "name": "stdout",
     "output_type": "stream",
     "text": [
      "Column: id - Data type: int64\n",
      "Number of nulls: 0 - Number of distincts values: 11757\n",
      "Frequent values:\n",
      "1 \t 1\n",
      "7832 \t 1\n",
      "7834 \t 1\n",
      "7835 \t 1\n",
      "7836 \t 1\n",
      "7837 \t 1\n",
      "7838 \t 1\n",
      "7839 \t 1\n",
      "7840 \t 1\n",
      "7841 \t 1\n"
     ]
    }
   ],
   "source": [
    "cleaning(compas_score_raw, 'id')"
   ]
  },
  {
   "cell_type": "markdown",
   "metadata": {},
   "source": [
    "There is nothing to change, we will directly add the variable to our new dataframe."
   ]
  },
  {
   "cell_type": "code",
   "execution_count": 112,
   "metadata": {},
   "outputs": [],
   "source": [
    "compas_score['id'] = compas_score_raw['id']"
   ]
  },
  {
   "cell_type": "code",
   "execution_count": 113,
   "metadata": {},
   "outputs": [
    {
     "name": "stdout",
     "output_type": "stream",
     "text": [
      "Column: name - Data type: object\n",
      "Number of nulls: 0 - Number of distincts values: 11584\n",
      "Frequent values:\n",
      "robert taylor \t 4\n",
      "carlos vasquez \t 4\n",
      "john brown \t 4\n",
      "michael cunningham \t 4\n",
      "james williams \t 3\n",
      "james smith \t 3\n",
      "anthony smith \t 3\n",
      "michael williams \t 3\n",
      "gregory williams \t 3\n",
      "anthony jackson \t 3\n"
     ]
    }
   ],
   "source": [
    "cleaning(compas_score_raw, 'name')"
   ]
  },
  {
   "cell_type": "markdown",
   "metadata": {},
   "source": [
    "We can observe that there are some names that repeat."
   ]
  },
  {
   "cell_type": "code",
   "execution_count": 114,
   "metadata": {},
   "outputs": [],
   "source": [
    "compas_score['name'] = compas_score_raw['name'].astype('string')"
   ]
  },
  {
   "cell_type": "markdown",
   "metadata": {},
   "source": [
    "We check that our variables are being added to the dataframe correctly."
   ]
  },
  {
   "cell_type": "code",
   "execution_count": 115,
   "metadata": {},
   "outputs": [
    {
     "data": {
      "text/html": [
       "<div>\n",
       "<style scoped>\n",
       "    .dataframe tbody tr th:only-of-type {\n",
       "        vertical-align: middle;\n",
       "    }\n",
       "\n",
       "    .dataframe tbody tr th {\n",
       "        vertical-align: top;\n",
       "    }\n",
       "\n",
       "    .dataframe thead th {\n",
       "        text-align: right;\n",
       "    }\n",
       "</style>\n",
       "<table border=\"1\" class=\"dataframe\">\n",
       "  <thead>\n",
       "    <tr style=\"text-align: right;\">\n",
       "      <th></th>\n",
       "      <th>id</th>\n",
       "      <th>name</th>\n",
       "    </tr>\n",
       "  </thead>\n",
       "  <tbody>\n",
       "    <tr>\n",
       "      <th>0</th>\n",
       "      <td>1</td>\n",
       "      <td>miguel hernandez</td>\n",
       "    </tr>\n",
       "    <tr>\n",
       "      <th>1</th>\n",
       "      <td>2</td>\n",
       "      <td>michael ryan</td>\n",
       "    </tr>\n",
       "    <tr>\n",
       "      <th>2</th>\n",
       "      <td>3</td>\n",
       "      <td>kevon dixon</td>\n",
       "    </tr>\n",
       "    <tr>\n",
       "      <th>3</th>\n",
       "      <td>4</td>\n",
       "      <td>ed philo</td>\n",
       "    </tr>\n",
       "    <tr>\n",
       "      <th>4</th>\n",
       "      <td>5</td>\n",
       "      <td>marcu brown</td>\n",
       "    </tr>\n",
       "  </tbody>\n",
       "</table>\n",
       "</div>"
      ],
      "text/plain": [
       "   id              name\n",
       "0   1  miguel hernandez\n",
       "1   2      michael ryan\n",
       "2   3       kevon dixon\n",
       "3   4          ed philo\n",
       "4   5       marcu brown"
      ]
     },
     "execution_count": 115,
     "metadata": {},
     "output_type": "execute_result"
    }
   ],
   "source": [
    "compas_score.head()"
   ]
  },
  {
   "cell_type": "code",
   "execution_count": 116,
   "metadata": {},
   "outputs": [
    {
     "name": "stdout",
     "output_type": "stream",
     "text": [
      "Column: sex - Data type: object\n",
      "Number of nulls: 0 - Number of distincts values: 2\n",
      "Frequent values:\n",
      "Male \t 9336\n",
      "Female \t 2421\n"
     ]
    }
   ],
   "source": [
    "cleaning(compas_score_raw, 'sex')"
   ]
  },
  {
   "cell_type": "code",
   "execution_count": 117,
   "metadata": {},
   "outputs": [],
   "source": [
    "compas_score['sex'] = compas_score_raw['sex'].astype('category')"
   ]
  },
  {
   "cell_type": "code",
   "execution_count": 118,
   "metadata": {},
   "outputs": [
    {
     "name": "stdout",
     "output_type": "stream",
     "text": [
      "Column: age - Data type: int64\n",
      "Number of nulls: 0 - Number of distincts values: 66\n",
      "Frequent values:\n",
      "26 \t 540\n",
      "24 \t 539\n",
      "25 \t 521\n",
      "23 \t 507\n",
      "27 \t 506\n",
      "22 \t 503\n",
      "21 \t 500\n",
      "29 \t 456\n",
      "30 \t 441\n",
      "28 \t 430\n"
     ]
    }
   ],
   "source": [
    "cleaning(compas_score_raw, 'age')"
   ]
  },
  {
   "cell_type": "code",
   "execution_count": 119,
   "metadata": {},
   "outputs": [],
   "source": [
    "compas_score['age'] = compas_score_raw['age']"
   ]
  },
  {
   "cell_type": "code",
   "execution_count": 120,
   "metadata": {},
   "outputs": [
    {
     "name": "stdout",
     "output_type": "stream",
     "text": [
      "Column: dob - Data type: object\n",
      "Number of nulls: 0 - Number of distincts values: 7800\n",
      "Frequent values:\n",
      "1991-08-12 \t 6\n",
      "1988-07-25 \t 6\n",
      "1994-01-24 \t 6\n",
      "1992-10-15 \t 6\n",
      "1989-04-27 \t 6\n",
      "1988-04-15 \t 6\n",
      "1989-10-14 \t 6\n",
      "1989-09-27 \t 6\n",
      "1990-05-02 \t 6\n",
      "1986-01-03 \t 6\n"
     ]
    }
   ],
   "source": [
    "cleaning(compas_score_raw, 'dob')"
   ]
  },
  {
   "cell_type": "code",
   "execution_count": 121,
   "metadata": {},
   "outputs": [],
   "source": [
    "compas_score['dob'] = pd.to_datetime(compas_score_raw['dob'])"
   ]
  },
  {
   "cell_type": "code",
   "execution_count": 122,
   "metadata": {},
   "outputs": [
    {
     "name": "stdout",
     "output_type": "stream",
     "text": [
      "Column: race - Data type: object\n",
      "Number of nulls: 0 - Number of distincts values: 6\n",
      "Frequent values:\n",
      "African-American \t 5813\n",
      "Caucasian \t 4085\n",
      "Hispanic \t 1100\n",
      "Other \t 661\n",
      "Asian \t 58\n",
      "Native American \t 40\n"
     ]
    }
   ],
   "source": [
    "cleaning(compas_score_raw, 'race')"
   ]
  },
  {
   "cell_type": "code",
   "execution_count": 123,
   "metadata": {},
   "outputs": [],
   "source": [
    "compas_score['race'] = compas_score_raw['race'].astype('category')"
   ]
  },
  {
   "cell_type": "code",
   "execution_count": 124,
   "metadata": {},
   "outputs": [
    {
     "name": "stdout",
     "output_type": "stream",
     "text": [
      "Column: compas_screening_date - Data type: object\n",
      "Number of nulls: 0 - Number of distincts values: 704\n",
      "Frequent values:\n",
      "2013-03-20 \t 39\n",
      "2013-04-20 \t 38\n",
      "2013-09-23 \t 35\n",
      "2013-02-20 \t 34\n",
      "2013-02-22 \t 33\n",
      "2013-09-26 \t 33\n",
      "2013-02-07 \t 32\n",
      "2014-11-12 \t 32\n",
      "2013-08-27 \t 32\n",
      "2013-08-07 \t 31\n"
     ]
    }
   ],
   "source": [
    "cleaning(compas_score_raw, 'compas_screening_date')"
   ]
  },
  {
   "cell_type": "code",
   "execution_count": 125,
   "metadata": {},
   "outputs": [],
   "source": [
    "compas_score['compas_screening_date'] = pd.to_datetime(compas_score_raw['compas_screening_date']) "
   ]
  },
  {
   "cell_type": "code",
   "execution_count": 126,
   "metadata": {},
   "outputs": [
    {
     "name": "stdout",
     "output_type": "stream",
     "text": [
      "Column: decile_score - Data type: int64\n",
      "Number of nulls: 0 - Number of distincts values: 11\n",
      "Frequent values:\n",
      "1 \t 2577\n",
      "2 \t 1572\n",
      "3 \t 1259\n",
      "4 \t 1199\n",
      "5 \t 1034\n",
      "6 \t 993\n",
      "7 \t 900\n",
      "9 \t 802\n",
      "8 \t 796\n",
      "10 \t 610\n"
     ]
    }
   ],
   "source": [
    "cleaning(compas_score_raw, 'decile_score')"
   ]
  },
  {
   "cell_type": "code",
   "execution_count": 127,
   "metadata": {},
   "outputs": [
    {
     "name": "stdout",
     "output_type": "stream",
     "text": [
      "Column: v_decile_score - Data type: int64\n",
      "Number of nulls: 0 - Number of distincts values: 11\n",
      "Frequent values:\n",
      "1 \t 3359\n",
      "2 \t 1789\n",
      "3 \t 1581\n",
      "4 \t 1239\n",
      "5 \t 1083\n",
      "6 \t 919\n",
      "7 \t 666\n",
      "8 \t 476\n",
      "9 \t 440\n",
      "10 \t 200\n"
     ]
    }
   ],
   "source": [
    "cleaning(compas_score_raw, 'v_decile_score')"
   ]
  },
  {
   "cell_type": "code",
   "execution_count": 128,
   "metadata": {},
   "outputs": [],
   "source": [
    "compas_score['decile_score'] = compas_score_raw['decile_score']\n",
    "compas_score['v_decile_score'] = compas_score_raw['v_decile_score']"
   ]
  },
  {
   "cell_type": "code",
   "execution_count": 129,
   "metadata": {},
   "outputs": [
    {
     "name": "stdout",
     "output_type": "stream",
     "text": [
      "Column: is_recid - Data type: int64\n",
      "Number of nulls: 0 - Number of distincts values: 3\n",
      "Frequent values:\n",
      "0 \t 7335\n",
      "1 \t 3703\n",
      "-1 \t 719\n"
     ]
    }
   ],
   "source": [
    "cleaning(compas_score_raw, 'is_recid')"
   ]
  },
  {
   "cell_type": "code",
   "execution_count": 130,
   "metadata": {},
   "outputs": [],
   "source": [
    "compas_score['is_recid'] = compas_score_raw['is_recid'].astype('category')\n",
    "\n",
    "# We define the categorical type\n",
    "r_types = pd.CategoricalDtype(\n",
    "    [\n",
    "        'Yes', 'No', 'Incomplete'\n",
    "    ], \n",
    "    ordered=True\n",
    ")\n",
    "\n",
    "# We define a dictionary to map the values:\n",
    "dict_r = {\n",
    "    0: 'No', \n",
    "    1: 'Yes',\n",
    "    -1: 'Incomplete'\n",
    "}\n",
    "\n",
    "compas_score['is_recid'] = compas_score['is_recid'].apply(\n",
    "    lambda x: dict_r.get(x)\n",
    ").astype(r_types)"
   ]
  },
  {
   "cell_type": "code",
   "execution_count": 131,
   "metadata": {},
   "outputs": [
    {
     "data": {
      "text/html": [
       "<div>\n",
       "<style scoped>\n",
       "    .dataframe tbody tr th:only-of-type {\n",
       "        vertical-align: middle;\n",
       "    }\n",
       "\n",
       "    .dataframe tbody tr th {\n",
       "        vertical-align: top;\n",
       "    }\n",
       "\n",
       "    .dataframe thead th {\n",
       "        text-align: right;\n",
       "    }\n",
       "</style>\n",
       "<table border=\"1\" class=\"dataframe\">\n",
       "  <thead>\n",
       "    <tr style=\"text-align: right;\">\n",
       "      <th></th>\n",
       "      <th>id</th>\n",
       "      <th>name</th>\n",
       "      <th>sex</th>\n",
       "      <th>age</th>\n",
       "      <th>dob</th>\n",
       "      <th>race</th>\n",
       "      <th>compas_screening_date</th>\n",
       "      <th>decile_score</th>\n",
       "      <th>v_decile_score</th>\n",
       "      <th>is_recid</th>\n",
       "    </tr>\n",
       "  </thead>\n",
       "  <tbody>\n",
       "    <tr>\n",
       "      <th>0</th>\n",
       "      <td>1</td>\n",
       "      <td>miguel hernandez</td>\n",
       "      <td>Male</td>\n",
       "      <td>69</td>\n",
       "      <td>1947-04-18</td>\n",
       "      <td>Other</td>\n",
       "      <td>2013-08-14</td>\n",
       "      <td>1</td>\n",
       "      <td>1</td>\n",
       "      <td>No</td>\n",
       "    </tr>\n",
       "    <tr>\n",
       "      <th>1</th>\n",
       "      <td>2</td>\n",
       "      <td>michael ryan</td>\n",
       "      <td>Male</td>\n",
       "      <td>31</td>\n",
       "      <td>1985-02-06</td>\n",
       "      <td>Caucasian</td>\n",
       "      <td>2014-12-31</td>\n",
       "      <td>5</td>\n",
       "      <td>2</td>\n",
       "      <td>Incomplete</td>\n",
       "    </tr>\n",
       "    <tr>\n",
       "      <th>2</th>\n",
       "      <td>3</td>\n",
       "      <td>kevon dixon</td>\n",
       "      <td>Male</td>\n",
       "      <td>34</td>\n",
       "      <td>1982-01-22</td>\n",
       "      <td>African-American</td>\n",
       "      <td>2013-01-27</td>\n",
       "      <td>3</td>\n",
       "      <td>1</td>\n",
       "      <td>Yes</td>\n",
       "    </tr>\n",
       "    <tr>\n",
       "      <th>3</th>\n",
       "      <td>4</td>\n",
       "      <td>ed philo</td>\n",
       "      <td>Male</td>\n",
       "      <td>24</td>\n",
       "      <td>1991-05-14</td>\n",
       "      <td>African-American</td>\n",
       "      <td>2013-04-14</td>\n",
       "      <td>4</td>\n",
       "      <td>3</td>\n",
       "      <td>Yes</td>\n",
       "    </tr>\n",
       "    <tr>\n",
       "      <th>4</th>\n",
       "      <td>5</td>\n",
       "      <td>marcu brown</td>\n",
       "      <td>Male</td>\n",
       "      <td>23</td>\n",
       "      <td>1993-01-21</td>\n",
       "      <td>African-American</td>\n",
       "      <td>2013-01-13</td>\n",
       "      <td>8</td>\n",
       "      <td>6</td>\n",
       "      <td>No</td>\n",
       "    </tr>\n",
       "  </tbody>\n",
       "</table>\n",
       "</div>"
      ],
      "text/plain": [
       "   id              name   sex  age        dob              race  \\\n",
       "0   1  miguel hernandez  Male   69 1947-04-18             Other   \n",
       "1   2      michael ryan  Male   31 1985-02-06         Caucasian   \n",
       "2   3       kevon dixon  Male   34 1982-01-22  African-American   \n",
       "3   4          ed philo  Male   24 1991-05-14  African-American   \n",
       "4   5       marcu brown  Male   23 1993-01-21  African-American   \n",
       "\n",
       "  compas_screening_date  decile_score  v_decile_score    is_recid  \n",
       "0            2013-08-14             1               1          No  \n",
       "1            2014-12-31             5               2  Incomplete  \n",
       "2            2013-01-27             3               1         Yes  \n",
       "3            2013-04-14             4               3         Yes  \n",
       "4            2013-01-13             8               6          No  "
      ]
     },
     "execution_count": 131,
     "metadata": {},
     "output_type": "execute_result"
    }
   ],
   "source": [
    "compas_score.head()"
   ]
  },
  {
   "cell_type": "markdown",
   "metadata": {},
   "source": [
    "Vemos en la página de publicación que '-1' significa que los datos están incompletos, por tanto, podemos excluirlos de nuestro análisis:"
   ]
  },
  {
   "cell_type": "code",
   "execution_count": 158,
   "metadata": {},
   "outputs": [
    {
     "data": {
      "text/plain": [
       "is_recid\n",
       "False    11038\n",
       "True       719\n",
       "Name: count, dtype: int64"
      ]
     },
     "execution_count": 158,
     "metadata": {},
     "output_type": "execute_result"
    }
   ],
   "source": [
    "(compas_score['is_recid'] == 'Incomplete').value_counts()"
   ]
  },
  {
   "cell_type": "code",
   "execution_count": 184,
   "metadata": {},
   "outputs": [
    {
     "data": {
      "text/plain": [
       "id                       11038\n",
       "name                     10902\n",
       "sex                          2\n",
       "age                         66\n",
       "dob                       7466\n",
       "race                         6\n",
       "compas_screening_date      704\n",
       "decile_score                11\n",
       "v_decile_score              11\n",
       "is_recid                     2\n",
       "r_offense_date            1090\n",
       "is_violent_recid             2\n",
       "vr_offense_date            599\n",
       "dtype: int64"
      ]
     },
     "execution_count": 184,
     "metadata": {},
     "output_type": "execute_result"
    }
   ],
   "source": [
    "# We remove the 719 cases that have unreliable information:\n",
    "compas_score.drop(compas_score[compas_score['is_recid'] == 'Incomplete'].index, inplace=True)\n",
    "compas_score.nunique()"
   ]
  },
  {
   "cell_type": "code",
   "execution_count": 185,
   "metadata": {},
   "outputs": [
    {
     "name": "stdout",
     "output_type": "stream",
     "text": [
      "Columna: r_offense_date - Tipos de datos: object\n",
      "Número de valores nulos: 8054 - Número de valores distintos: 1090\n",
      "Valores más frecuentes:\n",
      "2014-12-08 \t 12\n",
      "2015-02-10 \t 11\n",
      "2015-01-28 \t 11\n",
      "2014-06-05 \t 10\n",
      "2014-06-07 \t 10\n",
      "2015-03-11 \t 10\n",
      "2014-04-03 \t 10\n",
      "2014-09-15 \t 10\n",
      "2014-10-17 \t 10\n",
      "2015-02-18 \t 9\n"
     ]
    }
   ],
   "source": [
    "cleaning(compas_score_raw, 'r_offense_date')"
   ]
  },
  {
   "cell_type": "code",
   "execution_count": 186,
   "metadata": {},
   "outputs": [],
   "source": [
    "compas_score['r_offense_date'] = pd.to_datetime(compas_score_raw['r_offense_date']) "
   ]
  },
  {
   "cell_type": "code",
   "execution_count": 209,
   "metadata": {},
   "outputs": [
    {
     "name": "stdout",
     "output_type": "stream",
     "text": [
      "Column: is_violent_recid - Data type: int64\n",
      "Number of nulls: 0 - Number of distincts values: 2\n",
      "Frequent values:\n",
      "0 \t 10875\n",
      "1 \t 882\n"
     ]
    }
   ],
   "source": [
    "cleaning(compas_score_raw, 'is_violent_recid')"
   ]
  },
  {
   "cell_type": "code",
   "execution_count": 210,
   "metadata": {},
   "outputs": [],
   "source": [
    "compas_score['is_violent_recid'] = compas_score_raw['is_violent_recid'].astype('category')\n",
    "\n",
    "vr_types = pd.CategoricalDtype(\n",
    "    [\n",
    "        'Yes', 'No'\n",
    "    ], \n",
    "    ordered=True\n",
    ")\n",
    "\n",
    "dict_vr = {\n",
    "    0: 'No', \n",
    "    1: 'Yes'\n",
    "}\n",
    "\n",
    "compas_score['is_violent_recid'] = compas_score['is_violent_recid'].apply(\n",
    "    lambda x: dict_vr.get(x)\n",
    ").astype(vr_types)"
   ]
  },
  {
   "cell_type": "code",
   "execution_count": 211,
   "metadata": {},
   "outputs": [
    {
     "name": "stdout",
     "output_type": "stream",
     "text": [
      "Column: vr_offense_date - Data type: object\n",
      "Number of nulls: 10875 - Number of distincts values: 599\n",
      "Frequent values:\n",
      "2015-08-15 \t 6\n",
      "2015-09-04 \t 5\n",
      "2015-10-14 \t 4\n",
      "2014-10-29 \t 4\n",
      "2014-07-28 \t 4\n",
      "2014-09-28 \t 4\n",
      "2015-06-13 \t 4\n",
      "2015-09-07 \t 4\n",
      "2015-03-29 \t 4\n",
      "2015-04-27 \t 4\n"
     ]
    }
   ],
   "source": [
    "cleaning(compas_score_raw, 'vr_offense_date')"
   ]
  },
  {
   "cell_type": "code",
   "execution_count": 212,
   "metadata": {},
   "outputs": [],
   "source": [
    "compas_score['vr_offense_date'] = pd.to_datetime(compas_score_raw['vr_offense_date']) "
   ]
  },
  {
   "cell_type": "code",
   "execution_count": 213,
   "metadata": {},
   "outputs": [
    {
     "data": {
      "text/html": [
       "<div>\n",
       "<style scoped>\n",
       "    .dataframe tbody tr th:only-of-type {\n",
       "        vertical-align: middle;\n",
       "    }\n",
       "\n",
       "    .dataframe tbody tr th {\n",
       "        vertical-align: top;\n",
       "    }\n",
       "\n",
       "    .dataframe thead th {\n",
       "        text-align: right;\n",
       "    }\n",
       "</style>\n",
       "<table border=\"1\" class=\"dataframe\">\n",
       "  <thead>\n",
       "    <tr style=\"text-align: right;\">\n",
       "      <th></th>\n",
       "      <th>id</th>\n",
       "      <th>name</th>\n",
       "      <th>sex</th>\n",
       "      <th>age</th>\n",
       "      <th>dob</th>\n",
       "      <th>race</th>\n",
       "      <th>compas_screening_date</th>\n",
       "      <th>decile_score</th>\n",
       "      <th>v_decile_score</th>\n",
       "      <th>is_recid</th>\n",
       "      <th>r_offense_date</th>\n",
       "      <th>is_violent_recid</th>\n",
       "      <th>vr_offense_date</th>\n",
       "    </tr>\n",
       "  </thead>\n",
       "  <tbody>\n",
       "    <tr>\n",
       "      <th>0</th>\n",
       "      <td>1</td>\n",
       "      <td>miguel hernandez</td>\n",
       "      <td>Male</td>\n",
       "      <td>69</td>\n",
       "      <td>1947-04-18</td>\n",
       "      <td>Other</td>\n",
       "      <td>2013-08-14</td>\n",
       "      <td>1</td>\n",
       "      <td>1</td>\n",
       "      <td>No</td>\n",
       "      <td>NaT</td>\n",
       "      <td>No</td>\n",
       "      <td>NaT</td>\n",
       "    </tr>\n",
       "    <tr>\n",
       "      <th>2</th>\n",
       "      <td>3</td>\n",
       "      <td>kevon dixon</td>\n",
       "      <td>Male</td>\n",
       "      <td>34</td>\n",
       "      <td>1982-01-22</td>\n",
       "      <td>African-American</td>\n",
       "      <td>2013-01-27</td>\n",
       "      <td>3</td>\n",
       "      <td>1</td>\n",
       "      <td>Yes</td>\n",
       "      <td>2013-07-05</td>\n",
       "      <td>Yes</td>\n",
       "      <td>2013-07-05</td>\n",
       "    </tr>\n",
       "    <tr>\n",
       "      <th>3</th>\n",
       "      <td>4</td>\n",
       "      <td>ed philo</td>\n",
       "      <td>Male</td>\n",
       "      <td>24</td>\n",
       "      <td>1991-05-14</td>\n",
       "      <td>African-American</td>\n",
       "      <td>2013-04-14</td>\n",
       "      <td>4</td>\n",
       "      <td>3</td>\n",
       "      <td>Yes</td>\n",
       "      <td>2013-06-16</td>\n",
       "      <td>No</td>\n",
       "      <td>NaT</td>\n",
       "    </tr>\n",
       "    <tr>\n",
       "      <th>4</th>\n",
       "      <td>5</td>\n",
       "      <td>marcu brown</td>\n",
       "      <td>Male</td>\n",
       "      <td>23</td>\n",
       "      <td>1993-01-21</td>\n",
       "      <td>African-American</td>\n",
       "      <td>2013-01-13</td>\n",
       "      <td>8</td>\n",
       "      <td>6</td>\n",
       "      <td>No</td>\n",
       "      <td>NaT</td>\n",
       "      <td>No</td>\n",
       "      <td>NaT</td>\n",
       "    </tr>\n",
       "    <tr>\n",
       "      <th>5</th>\n",
       "      <td>6</td>\n",
       "      <td>bouthy pierrelouis</td>\n",
       "      <td>Male</td>\n",
       "      <td>43</td>\n",
       "      <td>1973-01-22</td>\n",
       "      <td>Other</td>\n",
       "      <td>2013-03-26</td>\n",
       "      <td>1</td>\n",
       "      <td>1</td>\n",
       "      <td>No</td>\n",
       "      <td>NaT</td>\n",
       "      <td>No</td>\n",
       "      <td>NaT</td>\n",
       "    </tr>\n",
       "  </tbody>\n",
       "</table>\n",
       "</div>"
      ],
      "text/plain": [
       "   id                name   sex  age        dob              race  \\\n",
       "0   1    miguel hernandez  Male   69 1947-04-18             Other   \n",
       "2   3         kevon dixon  Male   34 1982-01-22  African-American   \n",
       "3   4            ed philo  Male   24 1991-05-14  African-American   \n",
       "4   5         marcu brown  Male   23 1993-01-21  African-American   \n",
       "5   6  bouthy pierrelouis  Male   43 1973-01-22             Other   \n",
       "\n",
       "  compas_screening_date  decile_score  v_decile_score is_recid r_offense_date  \\\n",
       "0            2013-08-14             1               1       No            NaT   \n",
       "2            2013-01-27             3               1      Yes     2013-07-05   \n",
       "3            2013-04-14             4               3      Yes     2013-06-16   \n",
       "4            2013-01-13             8               6       No            NaT   \n",
       "5            2013-03-26             1               1       No            NaT   \n",
       "\n",
       "  is_violent_recid vr_offense_date  \n",
       "0               No             NaT  \n",
       "2              Yes      2013-07-05  \n",
       "3               No             NaT  \n",
       "4               No             NaT  \n",
       "5               No             NaT  "
      ]
     },
     "execution_count": 213,
     "metadata": {},
     "output_type": "execute_result"
    }
   ],
   "source": [
    "compas_score.head()"
   ]
  },
  {
   "cell_type": "markdown",
   "metadata": {},
   "source": [
    "'R-Offense Date' y 'VR-Offense Date' deberían coincidir con el campo 'No' de su categoría correspondiente, comprobamos si lo hacen:"
   ]
  },
  {
   "cell_type": "code",
   "execution_count": 214,
   "metadata": {},
   "outputs": [
    {
     "data": {
      "text/plain": [
       "['No']\n",
       "Categories (3, object): ['Yes' < 'No' < 'Incomplete']"
      ]
     },
     "execution_count": 214,
     "metadata": {},
     "output_type": "execute_result"
    }
   ],
   "source": [
    "compas_score['is_recid'][compas_score['r_offense_date'].isnull()].unique()"
   ]
  },
  {
   "cell_type": "code",
   "execution_count": 215,
   "metadata": {},
   "outputs": [
    {
     "data": {
      "text/plain": [
       "['No']\n",
       "Categories (2, object): ['Yes' < 'No']"
      ]
     },
     "execution_count": 215,
     "metadata": {},
     "output_type": "execute_result"
    }
   ],
   "source": [
    "compas_score['is_violent_recid'][compas_score['vr_offense_date'].isnull()].unique()"
   ]
  },
  {
   "cell_type": "code",
   "execution_count": 216,
   "metadata": {},
   "outputs": [
    {
     "name": "stdout",
     "output_type": "stream",
     "text": [
      "<class 'pandas.core.frame.DataFrame'>\n",
      "Index: 11038 entries, 0 to 11756\n",
      "Data columns (total 13 columns):\n",
      " #   Column                 Non-Null Count  Dtype         \n",
      "---  ------                 --------------  -----         \n",
      " 0   id                     11038 non-null  int64         \n",
      " 1   name                   11038 non-null  string        \n",
      " 2   sex                    11038 non-null  category      \n",
      " 3   age                    11038 non-null  int64         \n",
      " 4   dob                    11038 non-null  datetime64[ns]\n",
      " 5   race                   11038 non-null  category      \n",
      " 6   compas_screening_date  11038 non-null  datetime64[ns]\n",
      " 7   decile_score           11038 non-null  int64         \n",
      " 8   v_decile_score         11038 non-null  int64         \n",
      " 9   is_recid               11038 non-null  category      \n",
      " 10  r_offense_date         3703 non-null   datetime64[ns]\n",
      " 11  is_violent_recid       11038 non-null  category      \n",
      " 12  vr_offense_date        882 non-null    datetime64[ns]\n",
      "dtypes: category(4), datetime64[ns](4), int64(4), string(1)\n",
      "memory usage: 906.0 KB\n"
     ]
    }
   ],
   "source": [
    "compas_score.info()"
   ]
  },
  {
   "cell_type": "code",
   "execution_count": 217,
   "metadata": {},
   "outputs": [
    {
     "data": {
      "text/plain": [
       "id                       11038\n",
       "name                     10902\n",
       "sex                          2\n",
       "age                         66\n",
       "dob                       7466\n",
       "race                         6\n",
       "compas_screening_date      704\n",
       "decile_score                11\n",
       "v_decile_score              11\n",
       "is_recid                     2\n",
       "r_offense_date            1090\n",
       "is_violent_recid             2\n",
       "vr_offense_date            599\n",
       "dtype: int64"
      ]
     },
     "execution_count": 217,
     "metadata": {},
     "output_type": "execute_result"
    }
   ],
   "source": [
    "compas_score.nunique()"
   ]
  },
  {
   "cell_type": "markdown",
   "metadata": {},
   "source": [
    "We see that there are repeated names. We can also check, although it may seem commonplace, for any type of error and, in some cases, if it refers to the same person."
   ]
  },
  {
   "cell_type": "code",
   "execution_count": 218,
   "metadata": {},
   "outputs": [
    {
     "data": {
      "text/html": [
       "<div>\n",
       "<style scoped>\n",
       "    .dataframe tbody tr th:only-of-type {\n",
       "        vertical-align: middle;\n",
       "    }\n",
       "\n",
       "    .dataframe tbody tr th {\n",
       "        vertical-align: top;\n",
       "    }\n",
       "\n",
       "    .dataframe thead th {\n",
       "        text-align: right;\n",
       "    }\n",
       "</style>\n",
       "<table border=\"1\" class=\"dataframe\">\n",
       "  <thead>\n",
       "    <tr style=\"text-align: right;\">\n",
       "      <th></th>\n",
       "      <th>id</th>\n",
       "      <th>name</th>\n",
       "      <th>sex</th>\n",
       "      <th>age</th>\n",
       "      <th>dob</th>\n",
       "      <th>race</th>\n",
       "      <th>compas_screening_date</th>\n",
       "      <th>decile_score</th>\n",
       "      <th>v_decile_score</th>\n",
       "      <th>is_recid</th>\n",
       "      <th>r_offense_date</th>\n",
       "      <th>is_violent_recid</th>\n",
       "      <th>vr_offense_date</th>\n",
       "    </tr>\n",
       "  </thead>\n",
       "  <tbody>\n",
       "    <tr>\n",
       "      <th>7707</th>\n",
       "      <td>7708</td>\n",
       "      <td>jeffrey williams</td>\n",
       "      <td>Male</td>\n",
       "      <td>28</td>\n",
       "      <td>1987-06-27</td>\n",
       "      <td>African-American</td>\n",
       "      <td>2013-04-16</td>\n",
       "      <td>6</td>\n",
       "      <td>6</td>\n",
       "      <td>No</td>\n",
       "      <td>NaT</td>\n",
       "      <td>No</td>\n",
       "      <td>NaT</td>\n",
       "    </tr>\n",
       "    <tr>\n",
       "      <th>10164</th>\n",
       "      <td>10165</td>\n",
       "      <td>jeffrey williams</td>\n",
       "      <td>Male</td>\n",
       "      <td>28</td>\n",
       "      <td>1987-10-08</td>\n",
       "      <td>African-American</td>\n",
       "      <td>2014-06-25</td>\n",
       "      <td>2</td>\n",
       "      <td>2</td>\n",
       "      <td>Yes</td>\n",
       "      <td>2014-09-19</td>\n",
       "      <td>No</td>\n",
       "      <td>NaT</td>\n",
       "    </tr>\n",
       "    <tr>\n",
       "      <th>1004</th>\n",
       "      <td>1005</td>\n",
       "      <td>john brown</td>\n",
       "      <td>Male</td>\n",
       "      <td>65</td>\n",
       "      <td>1950-09-02</td>\n",
       "      <td>African-American</td>\n",
       "      <td>2014-04-11</td>\n",
       "      <td>2</td>\n",
       "      <td>1</td>\n",
       "      <td>Yes</td>\n",
       "      <td>2015-09-04</td>\n",
       "      <td>Yes</td>\n",
       "      <td>2015-09-04</td>\n",
       "    </tr>\n",
       "    <tr>\n",
       "      <th>11713</th>\n",
       "      <td>11714</td>\n",
       "      <td>john brown</td>\n",
       "      <td>Male</td>\n",
       "      <td>65</td>\n",
       "      <td>1950-12-01</td>\n",
       "      <td>African-American</td>\n",
       "      <td>2013-09-23</td>\n",
       "      <td>1</td>\n",
       "      <td>1</td>\n",
       "      <td>No</td>\n",
       "      <td>NaT</td>\n",
       "      <td>No</td>\n",
       "      <td>NaT</td>\n",
       "    </tr>\n",
       "    <tr>\n",
       "      <th>949</th>\n",
       "      <td>950</td>\n",
       "      <td>michael williams</td>\n",
       "      <td>Male</td>\n",
       "      <td>23</td>\n",
       "      <td>1993-02-10</td>\n",
       "      <td>African-American</td>\n",
       "      <td>2013-05-24</td>\n",
       "      <td>10</td>\n",
       "      <td>8</td>\n",
       "      <td>No</td>\n",
       "      <td>NaT</td>\n",
       "      <td>No</td>\n",
       "      <td>NaT</td>\n",
       "    </tr>\n",
       "    <tr>\n",
       "      <th>10537</th>\n",
       "      <td>10538</td>\n",
       "      <td>michael williams</td>\n",
       "      <td>Male</td>\n",
       "      <td>23</td>\n",
       "      <td>1993-01-15</td>\n",
       "      <td>African-American</td>\n",
       "      <td>2013-01-26</td>\n",
       "      <td>6</td>\n",
       "      <td>6</td>\n",
       "      <td>No</td>\n",
       "      <td>NaT</td>\n",
       "      <td>No</td>\n",
       "      <td>NaT</td>\n",
       "    </tr>\n",
       "    <tr>\n",
       "      <th>3491</th>\n",
       "      <td>3492</td>\n",
       "      <td>roderick thomas</td>\n",
       "      <td>Male</td>\n",
       "      <td>23</td>\n",
       "      <td>1993-01-07</td>\n",
       "      <td>African-American</td>\n",
       "      <td>2014-03-10</td>\n",
       "      <td>7</td>\n",
       "      <td>5</td>\n",
       "      <td>No</td>\n",
       "      <td>NaT</td>\n",
       "      <td>No</td>\n",
       "      <td>NaT</td>\n",
       "    </tr>\n",
       "    <tr>\n",
       "      <th>7476</th>\n",
       "      <td>7477</td>\n",
       "      <td>roderick thomas</td>\n",
       "      <td>Male</td>\n",
       "      <td>23</td>\n",
       "      <td>1992-05-28</td>\n",
       "      <td>African-American</td>\n",
       "      <td>2013-02-12</td>\n",
       "      <td>8</td>\n",
       "      <td>5</td>\n",
       "      <td>No</td>\n",
       "      <td>NaT</td>\n",
       "      <td>No</td>\n",
       "      <td>NaT</td>\n",
       "    </tr>\n",
       "    <tr>\n",
       "      <th>112</th>\n",
       "      <td>113</td>\n",
       "      <td>troy smith</td>\n",
       "      <td>Male</td>\n",
       "      <td>22</td>\n",
       "      <td>1993-09-21</td>\n",
       "      <td>African-American</td>\n",
       "      <td>2013-08-25</td>\n",
       "      <td>3</td>\n",
       "      <td>3</td>\n",
       "      <td>Yes</td>\n",
       "      <td>2014-10-06</td>\n",
       "      <td>No</td>\n",
       "      <td>NaT</td>\n",
       "    </tr>\n",
       "    <tr>\n",
       "      <th>2022</th>\n",
       "      <td>2023</td>\n",
       "      <td>troy smith</td>\n",
       "      <td>Male</td>\n",
       "      <td>22</td>\n",
       "      <td>1993-09-08</td>\n",
       "      <td>African-American</td>\n",
       "      <td>2013-03-22</td>\n",
       "      <td>7</td>\n",
       "      <td>6</td>\n",
       "      <td>No</td>\n",
       "      <td>NaT</td>\n",
       "      <td>No</td>\n",
       "      <td>NaT</td>\n",
       "    </tr>\n",
       "  </tbody>\n",
       "</table>\n",
       "</div>"
      ],
      "text/plain": [
       "          id              name   sex  age        dob              race  \\\n",
       "7707    7708  jeffrey williams  Male   28 1987-06-27  African-American   \n",
       "10164  10165  jeffrey williams  Male   28 1987-10-08  African-American   \n",
       "1004    1005        john brown  Male   65 1950-09-02  African-American   \n",
       "11713  11714        john brown  Male   65 1950-12-01  African-American   \n",
       "949      950  michael williams  Male   23 1993-02-10  African-American   \n",
       "10537  10538  michael williams  Male   23 1993-01-15  African-American   \n",
       "3491    3492   roderick thomas  Male   23 1993-01-07  African-American   \n",
       "7476    7477   roderick thomas  Male   23 1992-05-28  African-American   \n",
       "112      113        troy smith  Male   22 1993-09-21  African-American   \n",
       "2022    2023        troy smith  Male   22 1993-09-08  African-American   \n",
       "\n",
       "      compas_screening_date  decile_score  v_decile_score is_recid  \\\n",
       "7707             2013-04-16             6               6       No   \n",
       "10164            2014-06-25             2               2      Yes   \n",
       "1004             2014-04-11             2               1      Yes   \n",
       "11713            2013-09-23             1               1       No   \n",
       "949              2013-05-24            10               8       No   \n",
       "10537            2013-01-26             6               6       No   \n",
       "3491             2014-03-10             7               5       No   \n",
       "7476             2013-02-12             8               5       No   \n",
       "112              2013-08-25             3               3      Yes   \n",
       "2022             2013-03-22             7               6       No   \n",
       "\n",
       "      r_offense_date is_violent_recid vr_offense_date  \n",
       "7707             NaT               No             NaT  \n",
       "10164     2014-09-19               No             NaT  \n",
       "1004      2015-09-04              Yes      2015-09-04  \n",
       "11713            NaT               No             NaT  \n",
       "949              NaT               No             NaT  \n",
       "10537            NaT               No             NaT  \n",
       "3491             NaT               No             NaT  \n",
       "7476             NaT               No             NaT  \n",
       "112       2014-10-06               No             NaT  \n",
       "2022             NaT               No             NaT  "
      ]
     },
     "execution_count": 218,
     "metadata": {},
     "output_type": "execute_result"
    }
   ],
   "source": [
    "compas_score[compas_score.duplicated(['name', 'age'], keep=False)].sort_values(by = 'name')"
   ]
  },
  {
   "cell_type": "markdown",
   "metadata": {},
   "source": [
    "The birthdates do not match; therefore, they are not the same individuals. There are no apparent errors."
   ]
  },
  {
   "cell_type": "markdown",
   "metadata": {},
   "source": [
    "Our aim is to see if \"is_recid\" and \"is_violent_recid\" are suitable to evaluate the accuracy of risk estimates generated by the COMPAS system. The risk estimates are evaluated by \"decile_score\" and \"v_decile_score\", respectively. The higher the risk, the higher its value will be. Given that the threshold for implementing preventive measures for recidivism is 7 or higher, we will consider the risk to be high when it is >= 7. We create a contingency table to see if there is a match between is_recid = \"Yes\" and decile_score >= 7:"
   ]
  },
  {
   "cell_type": "code",
   "execution_count": 231,
   "metadata": {},
   "outputs": [
    {
     "data": {
      "text/html": [
       "<div>\n",
       "<style scoped>\n",
       "    .dataframe tbody tr th:only-of-type {\n",
       "        vertical-align: middle;\n",
       "    }\n",
       "\n",
       "    .dataframe tbody tr th {\n",
       "        vertical-align: top;\n",
       "    }\n",
       "\n",
       "    .dataframe thead th {\n",
       "        text-align: right;\n",
       "    }\n",
       "</style>\n",
       "<table border=\"1\" class=\"dataframe\">\n",
       "  <thead>\n",
       "    <tr style=\"text-align: right;\">\n",
       "      <th>Risk</th>\n",
       "      <th>False</th>\n",
       "      <th>True</th>\n",
       "    </tr>\n",
       "    <tr>\n",
       "      <th>Prediction</th>\n",
       "      <th></th>\n",
       "      <th></th>\n",
       "    </tr>\n",
       "  </thead>\n",
       "  <tbody>\n",
       "    <tr>\n",
       "      <th>False</th>\n",
       "      <td>2200</td>\n",
       "      <td>1503</td>\n",
       "    </tr>\n",
       "    <tr>\n",
       "      <th>True</th>\n",
       "      <td>5877</td>\n",
       "      <td>1458</td>\n",
       "    </tr>\n",
       "  </tbody>\n",
       "</table>\n",
       "</div>"
      ],
      "text/plain": [
       "Risk        False  True \n",
       "Prediction              \n",
       "False        2200   1503\n",
       "True         5877   1458"
      ]
     },
     "execution_count": 231,
     "metadata": {},
     "output_type": "execute_result"
    }
   ],
   "source": [
    "precision_crosstab = pd.crosstab(compas_score['is_recid'] == 'No', compas_score['decile_score'] >= 7, rownames=['Prediction'], colnames=['Risk'])\n",
    "precision_crosstab"
   ]
  },
  {
   "cell_type": "markdown",
   "metadata": {},
   "source": [
    "We have 2198 + 5868 = 8066 individuals with a decile_score less than 7, indicating low risk. Additionally, 1503 + 1458 = 2961 individuals have a high risk. Among those with low risk, only 5868 individuals have is_recid = 'No'. The remaining 2198 are recidivists. Similarly, there are 1458 high-risk individuals with is_recid 'No'. This indicates that relying solely on \"is_recid\" is not reliable. We calculate a more reliable feature. We use a regression model to try to predict \"decile_score\"."
   ]
  },
  {
   "cell_type": "code",
   "execution_count": 232,
   "metadata": {},
   "outputs": [
    {
     "name": "stdout",
     "output_type": "stream",
     "text": [
      "                            OLS Regression Results                            \n",
      "==============================================================================\n",
      "Dep. Variable:           decile_score   R-squared:                       0.255\n",
      "Model:                            OLS   Adj. R-squared:                  0.254\n",
      "Method:                 Least Squares   F-statistic:                     418.8\n",
      "Date:                Sat, 02 Mar 2024   Prob (F-statistic):               0.00\n",
      "Time:                        18:15:24   Log-Likelihood:                -25705.\n",
      "No. Observations:               11038   AIC:                         5.143e+04\n",
      "Df Residuals:                   11028   BIC:                         5.150e+04\n",
      "Df Model:                           9                                         \n",
      "Covariance Type:            nonrobust                                         \n",
      "==============================================================================================\n",
      "                                 coef    std err          t      P>|t|      [0.025      0.975]\n",
      "----------------------------------------------------------------------------------------------\n",
      "Intercept                      8.5416      0.116     73.369      0.000       8.313       8.770\n",
      "C(sex)[T.Male]                 0.2248      0.059      3.813      0.000       0.109       0.340\n",
      "C(race)[T.Asian]              -2.0587      0.343     -5.997      0.000      -2.732      -1.386\n",
      "C(race)[T.Caucasian]          -1.1807      0.053    -22.079      0.000      -1.285      -1.076\n",
      "C(race)[T.Hispanic]           -1.6600      0.086    -19.411      0.000      -1.828      -1.492\n",
      "C(race)[T.Native American]    -0.4522      0.416     -1.088      0.277      -1.267       0.362\n",
      "C(race)[T.Other]              -2.1345      0.106    -20.220      0.000      -2.341      -1.928\n",
      "C(is_recid)[T.No]             -1.1354      0.056    -20.291      0.000      -1.245      -1.026\n",
      "C(is_recid)[T.Incomplete]  -4.864e-15   9.03e-16     -5.387      0.000   -6.63e-15   -3.09e-15\n",
      "C(is_violent_recid)[T.No]     -0.3293      0.096     -3.432      0.001      -0.517      -0.141\n",
      "age                           -0.0731      0.002    -35.981      0.000      -0.077      -0.069\n",
      "==============================================================================\n",
      "Omnibus:                      571.225   Durbin-Watson:                   1.967\n",
      "Prob(Omnibus):                  0.000   Jarque-Bera (JB):              471.965\n",
      "Skew:                           0.429   Prob(JB):                    3.27e-103\n",
      "Kurtosis:                       2.462   Cond. No.                     3.28e+19\n",
      "==============================================================================\n",
      "\n",
      "Notes:\n",
      "[1] Standard Errors assume that the covariance matrix of the errors is correctly specified.\n",
      "[2] The smallest eigenvalue is 1.41e-32. This might indicate that there are\n",
      "strong multicollinearity problems or that the design matrix is singular.\n"
     ]
    }
   ],
   "source": [
    "from statsmodels.formula.api import ols\n",
    "\n",
    "fitted_decile_score = ols('decile_score ~ age + C(sex) + C(race) + C(is_recid) + C(is_violent_recid)', data=compas_score).fit() \n",
    "print(fitted_decile_score.summary())"
   ]
  },
  {
   "cell_type": "markdown",
   "metadata": {},
   "source": [
    "Here are several things to comment on:\n",
    "\n",
    "* The closer 'R-squared' is to 1, the more reliable our regression model will be. In this case, it is 0.254, so it is not very reliable.\n",
    "* P > |t|: This is a measure of the model's emphasis on the associated variable. The higher it is, the worse. In this case, we see that 'Native American' is not very relevant. This is likely because there are few people of that race."
   ]
  },
  {
   "cell_type": "code",
   "execution_count": 233,
   "metadata": {},
   "outputs": [
    {
     "data": {
      "text/plain": [
       "36"
      ]
     },
     "execution_count": 233,
     "metadata": {},
     "output_type": "execute_result"
    }
   ],
   "source": [
    "(compas_score.race=='Native American').sum()"
   ]
  },
  {
   "cell_type": "markdown",
   "metadata": {},
   "source": [
    "We verify that there are only 36 individuals in the model corresponding to this race, so it is not very significant."
   ]
  },
  {
   "cell_type": "code",
   "execution_count": 234,
   "metadata": {},
   "outputs": [],
   "source": [
    "predicted = fitted_decile_score.predict(compas_score) "
   ]
  },
  {
   "cell_type": "markdown",
   "metadata": {},
   "source": [
    "We generate a contingency table for the prediction with a value greater than or equal to 7, along with those values that are actually greater than or equal to 7:"
   ]
  },
  {
   "cell_type": "code",
   "execution_count": 243,
   "metadata": {},
   "outputs": [
    {
     "data": {
      "text/html": [
       "<div>\n",
       "<style scoped>\n",
       "    .dataframe tbody tr th:only-of-type {\n",
       "        vertical-align: middle;\n",
       "    }\n",
       "\n",
       "    .dataframe tbody tr th {\n",
       "        vertical-align: top;\n",
       "    }\n",
       "\n",
       "    .dataframe thead th {\n",
       "        text-align: right;\n",
       "    }\n",
       "</style>\n",
       "<table border=\"1\" class=\"dataframe\">\n",
       "  <thead>\n",
       "    <tr style=\"text-align: right;\">\n",
       "      <th>Real</th>\n",
       "      <th>False</th>\n",
       "      <th>True</th>\n",
       "    </tr>\n",
       "    <tr>\n",
       "      <th>Prediction</th>\n",
       "      <th></th>\n",
       "      <th></th>\n",
       "    </tr>\n",
       "  </thead>\n",
       "  <tbody>\n",
       "    <tr>\n",
       "      <th>False</th>\n",
       "      <td>8020</td>\n",
       "      <td>2858</td>\n",
       "    </tr>\n",
       "    <tr>\n",
       "      <th>True</th>\n",
       "      <td>57</td>\n",
       "      <td>103</td>\n",
       "    </tr>\n",
       "  </tbody>\n",
       "</table>\n",
       "</div>"
      ],
      "text/plain": [
       "Real        False  True \n",
       "Prediction              \n",
       "False        8020   2858\n",
       "True           57    103"
      ]
     },
     "execution_count": 243,
     "metadata": {},
     "output_type": "execute_result"
    }
   ],
   "source": [
    "predicted_crosstab = pd.crosstab(predicted >= 7, compas_score['decile_score'] >= 7, rownames=['Prediction'], colnames=['Real'])\n",
    "predicted_crosstab"
   ]
  },
  {
   "cell_type": "markdown",
   "metadata": {},
   "source": [
    "We observe that in 8009 cases, we were able to predict that decile_score is less than 7. In 2858 cases, the prediction was less than 7, but in reality, they were not (Type II Error). On the other hand, 103 individuals have a decile_score greater than 7, and the prediction is correct. With the last 57 cases, we thought they would be greater than 7 according to the prediction, but they were not (Type I Error)."
   ]
  },
  {
   "cell_type": "code",
   "execution_count": 244,
   "metadata": {},
   "outputs": [
    {
     "name": "stdout",
     "output_type": "stream",
     "text": [
      "              precision    recall  f1-score   support\n",
      "\n",
      "       False       0.74      0.99      0.85      8077\n",
      "        True       0.64      0.03      0.07      2961\n",
      "\n",
      "    accuracy                           0.74     11038\n",
      "   macro avg       0.69      0.51      0.46     11038\n",
      "weighted avg       0.71      0.74      0.64     11038\n",
      "\n"
     ]
    }
   ],
   "source": [
    "from sklearn.metrics import classification_report\n",
    "print(classification_report(compas_score.decile_score>=7, predicted>=7))"
   ]
  },
  {
   "cell_type": "markdown",
   "metadata": {},
   "source": [
    "The system, on average, assigns higher risk assessments to men than to women and to individuals of African American race than to those of Caucasian race. However, the recidivism rates are also higher for these groups, although it is not clear whether the risk assignment is \"fair\" or not. Display these differences through graphical representations and use them to analyze whether the risk assessments are fair or not. First, let's examine the risk assessments based on race."
   ]
  },
  {
   "cell_type": "code",
   "execution_count": 245,
   "metadata": {},
   "outputs": [
    {
     "data": {
      "text/plain": [
       "0                   Other\n",
       "2        African-American\n",
       "3        African-American\n",
       "4        African-American\n",
       "5                   Other\n",
       "               ...       \n",
       "11752               Other\n",
       "11753           Caucasian\n",
       "11754               Other\n",
       "11755           Caucasian\n",
       "11756               Asian\n",
       "Name: race, Length: 11038, dtype: category\n",
       "Categories (6, object): ['African-American', 'Asian', 'Caucasian', 'Hispanic', 'Native American', 'Other']"
      ]
     },
     "execution_count": 245,
     "metadata": {},
     "output_type": "execute_result"
    }
   ],
   "source": [
    "compas_score.race"
   ]
  },
  {
   "cell_type": "code",
   "execution_count": 251,
   "metadata": {},
   "outputs": [
    {
     "data": {
      "image/png": "[encoded data removed]",
      "text/plain": [
       "<Figure size 1200x1500 with 5 Axes>"
      ]
     },
     "metadata": {},
     "output_type": "display_data"
    }
   ],
   "source": [
    "race_group = compas_score.groupby(\"race\")\n",
    "race_count = compas_score.groupby(\"race\")[\"name\"].count()\n",
    "\n",
    "fig, ax = plt.subplots(5, figsize=(12, 15))\n",
    "\n",
    "for (i, race) in enumerate([\"African-American\", \"Asian\", \"Caucasian\", \"Hispanic\", \"Native American\"]):\n",
    "    (\n",
    "        (race_group\n",
    "            .get_group(race)\n",
    "            .groupby(\"decile_score\")[\"name\"].count() / race_count[race]\n",
    "        )\n",
    "        .plot(kind=\"bar\", ax=ax[i], color=\"#505067\")\n",
    "    )\n",
    "    ax[i].set_ylabel(race)\n",
    "    ax[i].set_xlabel(\"\")\n",
    "   \n",
    "    ax[i].set_ylim(0, 0.32)\n",
    "\n",
    "fig.suptitle(\"Frequency of risk assessment by race\")\n",
    "plt.show()"
   ]
  },
  {
   "cell_type": "markdown",
   "metadata": {},
   "source": [
    "Note that the African American race has a uniformly distributed risk assessment. In contrast, for the other races, the majority of individuals are at the lower levels of risk."
   ]
  },
  {
   "cell_type": "code",
   "execution_count": 252,
   "metadata": {},
   "outputs": [
    {
     "data": {
      "image/png": "[encoded data removed]",
      "text/plain": [
       "<Figure size 1200x1500 with 2 Axes>"
      ]
     },
     "metadata": {},
     "output_type": "display_data"
    }
   ],
   "source": [
    "sex_group = compas_score.groupby(\"sex\")\n",
    "race_count = compas_score.groupby(\"sex\")[\"name\"].count()\n",
    "\n",
    "fig, ax = plt.subplots(2, figsize=(12, 15))\n",
    "\n",
    "for (i, sex) in enumerate([\"Male\", \"Female\"]):\n",
    "    (\n",
    "        (sex_group\n",
    "            .get_group(sex)\n",
    "            .groupby(\"decile_score\")[\"name\"].count() \n",
    "         #/ race_count[race]\n",
    "        )\n",
    "        .plot(kind=\"bar\", ax=ax[i], color=\"#505067\")\n",
    "    )\n",
    "    ax[i].set_ylabel(sex)\n",
    "    ax[i].set_xlabel(\"\")\n",
    "   \n",
    " #   ax[i].set_ylim(0, 0.)\n",
    "\n",
    "fig.suptitle(\"Frequency of risk assessment by gender\")\n",
    "plt.show()"
   ]
  },
  {
   "cell_type": "markdown",
   "metadata": {},
   "source": [
    "In this case, we observe a tendency for fewer women to be in the high-risk levels."
   ]
  },
  {
   "cell_type": "markdown",
   "metadata": {},
   "source": [
    "We repeat the same process for the risk assessment in violent offenses."
   ]
  },
  {
   "cell_type": "code",
   "execution_count": 253,
   "metadata": {},
   "outputs": [
    {
     "name": "stdout",
     "output_type": "stream",
     "text": [
      "                            OLS Regression Results                            \n",
      "==============================================================================\n",
      "Dep. Variable:         v_decile_score   R-squared:                       0.394\n",
      "Model:                            OLS   Adj. R-squared:                  0.393\n",
      "Method:                 Least Squares   F-statistic:                     795.4\n",
      "Date:                Sat, 02 Mar 2024   Prob (F-statistic):               0.00\n",
      "Time:                        18:24:15   Log-Likelihood:                -23035.\n",
      "No. Observations:               11038   AIC:                         4.609e+04\n",
      "Df Residuals:                   11028   BIC:                         4.616e+04\n",
      "Df Model:                           9                                         \n",
      "Covariance Type:            nonrobust                                         \n",
      "==============================================================================================\n",
      "                                 coef    std err          t      P>|t|      [0.025      0.975]\n",
      "----------------------------------------------------------------------------------------------\n",
      "Intercept                      8.0738      0.091     88.335      0.000       7.895       8.253\n",
      "C(sex)[T.Male]                 0.7012      0.046     15.148      0.000       0.610       0.792\n",
      "C(race)[T.Asian]              -1.5070      0.270     -5.592      0.000      -2.035      -0.979\n",
      "C(race)[T.Caucasian]          -0.8414      0.042    -20.041      0.000      -0.924      -0.759\n",
      "C(race)[T.Hispanic]           -1.0077      0.067    -15.009      0.000      -1.139      -0.876\n",
      "C(race)[T.Native American]    -0.3745      0.326     -1.148      0.251      -1.014       0.265\n",
      "C(race)[T.Other]              -1.2659      0.083    -15.275      0.000      -1.428      -1.103\n",
      "C(is_recid)[T.No]             -0.6124      0.044    -13.939      0.000      -0.698      -0.526\n",
      "C(is_recid)[T.Incomplete]  -3.585e-15   7.09e-16     -5.056      0.000   -4.97e-15    -2.2e-15\n",
      "C(is_violent_recid)[T.No]     -0.4418      0.075     -5.865      0.000      -0.589      -0.294\n",
      "age                           -0.1072      0.002    -67.166      0.000      -0.110      -0.104\n",
      "==============================================================================\n",
      "Omnibus:                      924.375   Durbin-Watson:                   2.005\n",
      "Prob(Omnibus):                  0.000   Jarque-Bera (JB):             1170.232\n",
      "Skew:                           0.775   Prob(JB):                    7.71e-255\n",
      "Kurtosis:                       3.380   Cond. No.                     3.28e+19\n",
      "==============================================================================\n",
      "\n",
      "Notes:\n",
      "[1] Standard Errors assume that the covariance matrix of the errors is correctly specified.\n",
      "[2] The smallest eigenvalue is 1.41e-32. This might indicate that there are\n",
      "strong multicollinearity problems or that the design matrix is singular.\n"
     ]
    }
   ],
   "source": [
    "fitted_v_decile_score = ols('v_decile_score ~ age + C(sex) + C(race) + C(is_recid) + C(is_violent_recid)', data=compas_score).fit() \n",
    "print(fitted_v_decile_score.summary())"
   ]
  },
  {
   "cell_type": "markdown",
   "metadata": {},
   "source": [
    "We make a prediction of the v_decile_score value based on the previously mentioned data. We generate the contingency table, comparing the cases where a value greater than or equal to 7 is predicted with those where the actual value is greater than or equal to 7."
   ]
  },
  {
   "cell_type": "code",
   "execution_count": 256,
   "metadata": {},
   "outputs": [
    {
     "data": {
      "text/html": [
       "<div>\n",
       "<style scoped>\n",
       "    .dataframe tbody tr th:only-of-type {\n",
       "        vertical-align: middle;\n",
       "    }\n",
       "\n",
       "    .dataframe tbody tr th {\n",
       "        vertical-align: top;\n",
       "    }\n",
       "\n",
       "    .dataframe thead th {\n",
       "        text-align: right;\n",
       "    }\n",
       "</style>\n",
       "<table border=\"1\" class=\"dataframe\">\n",
       "  <thead>\n",
       "    <tr style=\"text-align: right;\">\n",
       "      <th>Real</th>\n",
       "      <th>False</th>\n",
       "      <th>True</th>\n",
       "    </tr>\n",
       "    <tr>\n",
       "      <th>Prediction</th>\n",
       "      <th></th>\n",
       "      <th></th>\n",
       "    </tr>\n",
       "  </thead>\n",
       "  <tbody>\n",
       "    <tr>\n",
       "      <th>False</th>\n",
       "      <td>9330</td>\n",
       "      <td>1708</td>\n",
       "    </tr>\n",
       "  </tbody>\n",
       "</table>\n",
       "</div>"
      ],
      "text/plain": [
       "Real        False  True \n",
       "Prediction              \n",
       "False        9330   1708"
      ]
     },
     "execution_count": 256,
     "metadata": {},
     "output_type": "execute_result"
    }
   ],
   "source": [
    "v_predicted = fitted_v_decile_score.predict(compas_score)\n",
    "tabla = pd.crosstab(v_predicted >= 7, compas_score['v_decile_score'] >= 7, rownames=['Prediction'], colnames=['Real'])\n",
    "tabla"
   ]
  },
  {
   "cell_type": "code",
   "execution_count": 258,
   "metadata": {},
   "outputs": [
    {
     "name": "stdout",
     "output_type": "stream",
     "text": [
      "              precision    recall  f1-score   support\n",
      "\n",
      "       False       0.85      1.00      0.92      9330\n",
      "        True       0.00      0.00      0.00      1708\n",
      "\n",
      "    accuracy                           0.85     11038\n",
      "   macro avg       0.42      0.50      0.46     11038\n",
      "weighted avg       0.71      0.85      0.77     11038\n",
      "\n"
     ]
    },
    {
     "name": "stderr",
     "output_type": "stream",
     "text": [
      "/Users/danielperez/anaconda3/lib/python3.11/site-packages/sklearn/metrics/_classification.py:1469: UndefinedMetricWarning: Precision and F-score are ill-defined and being set to 0.0 in labels with no predicted samples. Use `zero_division` parameter to control this behavior.\n",
      "  _warn_prf(average, modifier, msg_start, len(result))\n",
      "/Users/danielperez/anaconda3/lib/python3.11/site-packages/sklearn/metrics/_classification.py:1469: UndefinedMetricWarning: Precision and F-score are ill-defined and being set to 0.0 in labels with no predicted samples. Use `zero_division` parameter to control this behavior.\n",
      "  _warn_prf(average, modifier, msg_start, len(result))\n",
      "/Users/danielperez/anaconda3/lib/python3.11/site-packages/sklearn/metrics/_classification.py:1469: UndefinedMetricWarning: Precision and F-score are ill-defined and being set to 0.0 in labels with no predicted samples. Use `zero_division` parameter to control this behavior.\n",
      "  _warn_prf(average, modifier, msg_start, len(result))\n"
     ]
    }
   ],
   "source": [
    "from sklearn.metrics import classification_report\n",
    "print(classification_report(compas_score['v_decile_score'] >= 7, v_predicted >= 7))"
   ]
  },
  {
   "cell_type": "markdown",
   "metadata": {},
   "source": [
    "We see that the accuracy is 85%, indicating that the system has a higher predictive capability for risk assessments in violent offenses."
   ]
  }
 ],
 "metadata": {
  "kernelspec": {
   "display_name": "Python 3.11.5 ('base')",
   "language": "python",
   "name": "python3"
  },
  "language_info": {
   "codemirror_mode": {
    "name": "ipython",
    "version": 3
   },
   "file_extension": ".py",
   "mimetype": "text/x-python",
   "name": "python",
   "nbconvert_exporter": "python",
   "pygments_lexer": "ipython3",
   "version": "3.11.5"
  },
  "orig_nbformat": 4,
  "vscode": {
   "interpreter": {
    "hash": "c1bb3ff79e51776ee91c86aa792ed9f8d18fe7d9d5fee58ffcff168f184c3088"
   }
  }
 },
 "nbformat": 4,
 "nbformat_minor": 2
}
